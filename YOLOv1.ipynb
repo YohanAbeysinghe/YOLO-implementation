{
 "cells": [
  {
   "cell_type": "code",
   "execution_count": 13,
   "metadata": {},
   "outputs": [
    {
     "name": "stdout",
     "output_type": "stream",
     "text": [
      "[[[ 1]\n",
      "  [ 4]]\n",
      "\n",
      " [[ 7]\n",
      "  [10]]\n",
      "\n",
      " [[13]\n",
      "  [16]]]\n"
     ]
    }
   ],
   "source": [
    "import numpy as np\n",
    "\n",
    "# 3D array\n",
    "arr_3d = np.array([[[1, 2, 3], [4, 5, 6]],\n",
    "                   [[7, 8, 9], [10, 11, 12]],\n",
    "                   [[13, 14, 15], [16, 17, 18]]])\n",
    "\n",
    "# Selecting all elements along the first axis, and only the first element along the last axis\n",
    "selected_3d = arr_3d[..., 0:1]\n",
    "\n",
    "print(selected_3d)"
   ]
  },
  {
   "cell_type": "code",
   "execution_count": 14,
   "metadata": {},
   "outputs": [
    {
     "name": "stdout",
     "output_type": "stream",
     "text": [
      "[[[1 2 3]\n",
      "  [4 5 6]]]\n"
     ]
    }
   ],
   "source": [
    "print(arr_3d[0:1])"
   ]
  },
  {
   "cell_type": "code",
   "execution_count": 10,
   "metadata": {},
   "outputs": [
    {
     "name": "stdout",
     "output_type": "stream",
     "text": [
      "tensor([[21, 10],\n",
      "        [ 1,  2]])\n",
      "tensor([[[21, 10, 18,  9],\n",
      "         [ 1,  2,  5,  6]]])\n",
      "tensor([[21, 10, 18,  9],\n",
      "        [ 1,  2,  5,  6]])\n",
      "tensor([[0, 0, 0, 0],\n",
      "        [0, 0, 0, 0]])\n"
     ]
    }
   ],
   "source": [
    "import torch\n",
    "\n",
    "iou_b1 = torch.tensor([[21,10],[1,2]])\n",
    "iou_b2 = torch.tensor([[18,9],[5,6]])\n",
    "print(iou_b1)\n",
    "\n",
    "ious = torch.cat([iou_b1.unsqueeze(0), iou_b2.unsqueeze(0)], dim=2)\n",
    "print(ious)\n",
    "\n",
    "# Take the box with highest IoU out of the two prediction\n",
    "# Note that bestbox will be indices of 0, 1 for which bbox was best\n",
    "iou_maxes, bestbox = torch.max(ious, dim=0)\n",
    "print(iou_maxes)\n",
    "print(bestbox)"
   ]
  },
  {
   "cell_type": "code",
   "execution_count": null,
   "metadata": {},
   "outputs": [],
   "source": []
  },
  {
   "cell_type": "code",
   "execution_count": null,
   "metadata": {},
   "outputs": [],
   "source": []
  }
 ],
 "metadata": {
  "kernelspec": {
   "display_name": "Python 3.9 (pytorch)",
   "language": "python",
   "name": "pytorch"
  },
  "language_info": {
   "codemirror_mode": {
    "name": "ipython",
    "version": 3
   },
   "file_extension": ".py",
   "mimetype": "text/x-python",
   "name": "python",
   "nbconvert_exporter": "python",
   "pygments_lexer": "ipython3",
   "version": "3.9.15"
  }
 },
 "nbformat": 4,
 "nbformat_minor": 2
}
