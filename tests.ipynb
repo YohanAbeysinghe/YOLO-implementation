{
 "cells": [
  {
   "cell_type": "code",
   "execution_count": 2,
   "metadata": {},
   "outputs": [
    {
     "name": "stdout",
     "output_type": "stream",
     "text": [
      "[[[ 1]\n",
      "  [ 4]]\n",
      "\n",
      " [[ 7]\n",
      "  [10]]\n",
      "\n",
      " [[13]\n",
      "  [16]]]\n"
     ]
    }
   ],
   "source": [
    "import numpy as np\n",
    "\n",
    "# 3D array\n",
    "arr_3d = np.array([[[1, 2, 3], [4, 5, 6]],\n",
    "                   [[7, 8, 9], [10, 11, 12]],\n",
    "                   [[13, 14, 15], [16, 17, 18]]])\n",
    "\n",
    "# Selecting all elements along the first axis, and only the first element along the last axis\n",
    "selected_3d = arr_3d[..., 0:1]\n",
    "\n",
    "print(selected_3d)"
   ]
  },
  {
   "cell_type": "code",
   "execution_count": 3,
   "metadata": {},
   "outputs": [
    {
     "name": "stdout",
     "output_type": "stream",
     "text": [
      "[[[1 2 3]\n",
      "  [4 5 6]]]\n"
     ]
    }
   ],
   "source": [
    "print(arr_3d[0:1])"
   ]
  },
  {
   "cell_type": "code",
   "execution_count": 4,
   "metadata": {},
   "outputs": [
    {
     "name": "stdout",
     "output_type": "stream",
     "text": [
      "tensor([[21, 10],\n",
      "        [ 1,  2]])\n",
      "tensor([[[21, 10, 18,  9],\n",
      "         [ 1,  2,  5,  6]]])\n",
      "tensor([[21, 10, 18,  9],\n",
      "        [ 1,  2,  5,  6]])\n",
      "tensor([[0, 0, 0, 0],\n",
      "        [0, 0, 0, 0]])\n"
     ]
    }
   ],
   "source": [
    "import torch\n",
    "\n",
    "iou_b1 = torch.tensor([[21,10],[1,2]])\n",
    "iou_b2 = torch.tensor([[18,9],[5,6]])\n",
    "print(iou_b1)\n",
    "\n",
    "ious = torch.cat([iou_b1.unsqueeze(0), iou_b2.unsqueeze(0)], dim=2)\n",
    "print(ious)\n",
    "\n",
    "# Take the box with highest IoU out of the two prediction\n",
    "# Note that bestbox will be indices of 0, 1 for which bbox was best\n",
    "iou_maxes, bestbox = torch.max(ious, dim=0)\n",
    "print(iou_maxes)\n",
    "print(bestbox)"
   ]
  },
  {
   "cell_type": "code",
   "execution_count": 5,
   "metadata": {},
   "outputs": [],
   "source": [
    "import pandas as pd\n",
    "import os\n",
    "from PIL import Image\n",
    "\n",
    "annotations = pd.read_csv(\"/Users/yohanabeysinghe/Mac/0. ML/Datasets/PascalVOC YOLO/test.csv\", header=None)\n",
    "img_dir = \"/Users/yohanabeysinghe/Mac/0. ML/Datasets/PascalVOC YOLO/images\"\n",
    "label_dir = \"/Users/yohanabeysinghe/Mac/0. ML/Datasets/PascalVOC YOLO/labels\"\n",
    "S= 7\n",
    "B= 2\n",
    "C= 20 "
   ]
  },
  {
   "cell_type": "code",
   "execution_count": 6,
   "metadata": {},
   "outputs": [
    {
     "data": {
      "text/plain": [
       "'/Users/yohanabeysinghe/Mac/0. ML/Datasets/PascalVOC YOLO/labels/000001.txt'"
      ]
     },
     "execution_count": 6,
     "metadata": {},
     "output_type": "execute_result"
    }
   ],
   "source": [
    "index = 0\n",
    "label_path = os.path.join(label_dir, annotations.iloc[index, 1])\n",
    "label_path\n"
   ]
  },
  {
   "cell_type": "code",
   "execution_count": 7,
   "metadata": {},
   "outputs": [],
   "source": [
    "boxes = []\n",
    "\n",
    "with open(label_path) as f:\n",
    "    for label in f.readlines():\n",
    "        class_label, x, y, width, height = [\n",
    "            float(x) if float(x) != int(float(x)) else int(x)\n",
    "            for x in label.replace(\"\\n\", \"\").split()\n",
    "        ]\n",
    "\n",
    "        boxes.append([class_label, x, y, width, height])"
   ]
  },
  {
   "cell_type": "code",
   "execution_count": 8,
   "metadata": {},
   "outputs": [
    {
     "data": {
      "text/plain": [
       "[[11, 0.34419263456090654, 0.611, 0.4164305949008499, 0.262],\n",
       " [14, 0.509915014164306, 0.51, 0.9745042492917847, 0.972]]"
      ]
     },
     "execution_count": 8,
     "metadata": {},
     "output_type": "execute_result"
    }
   ],
   "source": [
    "boxes"
   ]
  },
  {
   "cell_type": "code",
   "execution_count": 9,
   "metadata": {},
   "outputs": [],
   "source": [
    "img_path = os.path.join(img_dir, annotations.iloc[index, 0])\n",
    "image = Image.open(img_path)"
   ]
  },
  {
   "cell_type": "code",
   "execution_count": 10,
   "metadata": {},
   "outputs": [
    {
     "data": {
      "text/plain": [
       "tensor([[11.0000,  0.3442,  0.6110,  0.4164,  0.2620],\n",
       "        [14.0000,  0.5099,  0.5100,  0.9745,  0.9720]])"
      ]
     },
     "execution_count": 10,
     "metadata": {},
     "output_type": "execute_result"
    }
   ],
   "source": [
    "import torch\n",
    "boxes = torch.tensor(boxes)\n",
    "boxes"
   ]
  },
  {
   "cell_type": "code",
   "execution_count": 11,
   "metadata": {},
   "outputs": [
    {
     "name": "stdout",
     "output_type": "stream",
     "text": [
      "0.34419262409210205 0.6110000014305115\n",
      "11\n",
      "4 2\n",
      "0.5099149942398071 0.5099999904632568\n",
      "14\n",
      "3 3\n"
     ]
    }
   ],
   "source": [
    "label_matrix = torch.zeros((S, S, C + 5 * B))\n",
    "for box in boxes:\n",
    "    class_label, x, y, width, height = box.tolist()\n",
    "    print(x,y)\n",
    "    class_label = int(class_label)\n",
    "    print(class_label)\n",
    "    i, j = int(S * y), int(S * x)\n",
    "    print(i,j)"
   ]
  },
  {
   "cell_type": "code",
   "execution_count": 12,
   "metadata": {},
   "outputs": [
    {
     "name": "stdout",
     "output_type": "stream",
     "text": [
      "0.5694049596786499 0.5699999332427979\n"
     ]
    }
   ],
   "source": [
    "x_cell, y_cell = S * x - j, S * y - i\n",
    "\n",
    "print(x_cell, y_cell)"
   ]
  },
  {
   "cell_type": "code",
   "execution_count": 13,
   "metadata": {},
   "outputs": [
    {
     "name": "stdout",
     "output_type": "stream",
     "text": [
      "6.8215296268463135 6.804000020027161\n"
     ]
    }
   ],
   "source": [
    "width_cell, height_cell = (width * S, height * S,)\n",
    "\n",
    "print(width_cell, height_cell)"
   ]
  },
  {
   "cell_type": "code",
   "execution_count": 15,
   "metadata": {},
   "outputs": [
    {
     "data": {
      "text/plain": [
       "torch.Size([7, 7, 30])"
      ]
     },
     "execution_count": 15,
     "metadata": {},
     "output_type": "execute_result"
    }
   ],
   "source": [
    "label_matrix.shape"
   ]
  },
  {
   "cell_type": "code",
   "execution_count": 16,
   "metadata": {},
   "outputs": [],
   "source": [
    "if label_matrix[i, j, 20] == 0:\n",
    "    # Set that there exists an object\n",
    "    label_matrix[i, j, 20] = 1\n",
    "\n",
    "    # Box coordinates\n",
    "    box_coordinates = torch.tensor(\n",
    "        [x_cell, y_cell, width_cell, height_cell]\n",
    "    )\n",
    "\n",
    "    label_matrix[i, j, 21:25] = box_coordinates\n",
    "\n",
    "    # Set one hot encoding for class_label\n",
    "    label_matrix[i, j, class_label] = 1"
   ]
  },
  {
   "cell_type": "code",
   "execution_count": 18,
   "metadata": {},
   "outputs": [
    {
     "data": {
      "text/plain": [
       "tensor([0.0000, 0.0000, 0.0000, 0.0000, 0.0000, 0.0000, 0.0000, 0.0000, 0.0000,\n",
       "        0.0000, 0.0000, 0.0000, 0.0000, 0.0000, 1.0000, 0.0000, 0.0000, 0.0000,\n",
       "        0.0000, 0.0000, 1.0000, 0.5694, 0.5700, 6.8215, 6.8040, 0.0000, 0.0000,\n",
       "        0.0000, 0.0000, 0.0000])"
      ]
     },
     "execution_count": 18,
     "metadata": {},
     "output_type": "execute_result"
    }
   ],
   "source": [
    "label_matrix[i,j]"
   ]
  },
  {
   "cell_type": "code",
   "execution_count": null,
   "metadata": {},
   "outputs": [],
   "source": []
  }
 ],
 "metadata": {
  "kernelspec": {
   "display_name": "Python 3.9 (pytorch)",
   "language": "python",
   "name": "pytorch"
  },
  "language_info": {
   "codemirror_mode": {
    "name": "ipython",
    "version": 3
   },
   "file_extension": ".py",
   "mimetype": "text/x-python",
   "name": "python",
   "nbconvert_exporter": "python",
   "pygments_lexer": "ipython3",
   "version": "3.9.15"
  }
 },
 "nbformat": 4,
 "nbformat_minor": 2
}
